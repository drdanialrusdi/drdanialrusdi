{
 "cells": [
  {
   "cell_type": "markdown",
   "metadata": {},
   "source": [
    "<u><strong>Setting for Google VISION_API</strong></u><br>\n",
    "First get google vision API key in google cloud. There are alternative version for not using google API such as google credential but for this model, we will use google API key.<br>\n",
    "<br>\n",
    "After getting the Google API key, go to anaconda cloud environment and type: <i>set VISION_API=xxx </i> and if you using linux: <i> export VISION_API=xxx </i> "
   ]
  },
  {
   "cell_type": "code",
   "execution_count": 6,
   "metadata": {
    "collapsed": true
   },
   "outputs": [],
   "source": [
    "import argparse\n",
    "import os\n",
    "\n",
    "from google_api_utils import Service, encode_image\n",
    "\n",
    "\n",
    "def main(photo_file):\n",
    "    \"\"\"Run a text detection request on a single image\"\"\"\n",
    "\n",
    "    access_token = os.environ.get('VISION_API')\n",
    "    service = Service('vision', 'v1', access_token=access_token)\n",
    "\n",
    "    with open(photo_file, 'rb') as image:\n",
    "        base64_image = encode_image(image)\n",
    "        body = {\n",
    "            'requests': [{\n",
    "                'image': {\n",
    "                    'content': base64_image,\n",
    "                },\n",
    "                'features': [{\n",
    "                    'type': 'TEXT_DETECTION',\n",
    "                    'maxResults': 1,\n",
    "                }]\n",
    "\n",
    "            }]\n",
    "        }\n",
    "        response = service.execute(body=body)\n",
    "        text = response['responses'][0]['textAnnotations'][0]['description']\n",
    "        #print('Found text: {}'.format(text))\n",
    "    return response,text"
   ]
  },
  {
   "cell_type": "code",
   "execution_count": 17,
   "metadata": {
    "collapsed": true
   },
   "outputs": [],
   "source": [
    "import glob\n",
    "import os\n",
    "import json\n",
    "import re"
   ]
  },
  {
   "cell_type": "code",
   "execution_count": 12,
   "metadata": {
    "collapsed": true
   },
   "outputs": [],
   "source": [
    "ROOT_PATH='C:\\\\Users\\\\00130161\\\\Desktop\\\\Death Claim\\\\death_cert_xtract_cause_death\\\\'"
   ]
  },
  {
   "cell_type": "code",
   "execution_count": 13,
   "metadata": {
    "collapsed": true
   },
   "outputs": [],
   "source": [
    "IMG_PATH=f'{ROOT_PATH}img_death_cert'"
   ]
  },
  {
   "cell_type": "code",
   "execution_count": 14,
   "metadata": {
    "collapsed": true
   },
   "outputs": [],
   "source": [
    "img=glob.glob(IMG_PATH+'\\\\*')"
   ]
  },
  {
   "cell_type": "markdown",
   "metadata": {},
   "source": [
    "### DEATH CERTIFICATE"
   ]
  },
  {
   "cell_type": "code",
   "execution_count": 8,
   "metadata": {},
   "outputs": [
    {
     "data": {
      "text/plain": [
       "[]"
      ]
     },
     "execution_count": 8,
     "metadata": {},
     "output_type": "execute_result"
    }
   ],
   "source": [
    "reg_area=[] #registration area\n",
    "reg_ctr=[] #registration centre\n",
    "name=[] #deceased name\n",
    "ic_no=[] #deceased ic\n",
    "dod=[] #date of death\n",
    "race=[] #deceased race\n",
    "last_adr=[] #deceased last address\n",
    "die_place=[] #deceased death location\n",
    "die_cause=[] #deceased cause of death\n",
    "\n",
    "for item in img:\n",
    "    response, text = main(item)\n",
    "    ''' Edit code here\n",
    "    reg_area.append(text[\"some number need to decide\"])\n",
    "    reg_ctr.append(text[\"some number need to decide\"])\n",
    "    name.append(text[\"some number need to decide\"])\n",
    "    ic_no.append(text[\"some number need to decide\"])\n",
    "    dod.append(text[\"some number need to decide\"])\n",
    "    race.append(text[\"some number need to decide\"])\n",
    "    last_adr.append(text[\"some number need to decide\"])\n",
    "    die_place.append(text[\"some number need to decide\"])\n",
    "    die_cause.append(text[\"some number need to decide\"])\n",
    "    End code here'''\n",
    "    with open(ic_no[-1]+'.txt', 'w') as outfile:\n",
    "        json.dump(response, outfile)"
   ]
  },
  {
   "cell_type": "markdown",
   "metadata": {},
   "source": [
    "### Birth Registration"
   ]
  },
  {
   "cell_type": "code",
   "execution_count": null,
   "metadata": {
    "collapsed": true
   },
   "outputs": [],
   "source": []
  },
  {
   "cell_type": "markdown",
   "metadata": {},
   "source": [
    "### IC"
   ]
  },
  {
   "cell_type": "code",
   "execution_count": null,
   "metadata": {
    "collapsed": true
   },
   "outputs": [],
   "source": [
    "ic_no=[]\n",
    "name=[]\n",
    "adr=[]\n",
    "nationality=[]\n",
    "religion=[]\n",
    "gender=[]"
   ]
  },
  {
   "cell_type": "markdown",
   "metadata": {},
   "source": [
    "### Passport"
   ]
  },
  {
   "cell_type": "code",
   "execution_count": null,
   "metadata": {
    "collapsed": true
   },
   "outputs": [],
   "source": []
  },
  {
   "cell_type": "markdown",
   "metadata": {},
   "source": [
    "### Road Tax"
   ]
  },
  {
   "cell_type": "code",
   "execution_count": null,
   "metadata": {
    "collapsed": true
   },
   "outputs": [],
   "source": []
  },
  {
   "cell_type": "markdown",
   "metadata": {},
   "source": [
    "### Geran kereta"
   ]
  },
  {
   "cell_type": "code",
   "execution_count": null,
   "metadata": {
    "collapsed": true
   },
   "outputs": [],
   "source": []
  }
 ],
 "metadata": {
  "kernelspec": {
   "display_name": "Python 3",
   "language": "python",
   "name": "python3"
  },
  "language_info": {
   "codemirror_mode": {
    "name": "ipython",
    "version": 3
   },
   "file_extension": ".py",
   "mimetype": "text/x-python",
   "name": "python",
   "nbconvert_exporter": "python",
   "pygments_lexer": "ipython3",
   "version": "3.6.3"
  }
 },
 "nbformat": 4,
 "nbformat_minor": 2
}
